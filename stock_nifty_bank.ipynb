{
  "cells": [
    {
      "cell_type": "code",
      "execution_count": null,
      "metadata": {
        "id": "wL8Dsy1vlhFE"
      },
      "outputs": [],
      "source": [
        "import pandas as pd\n",
        "import numpy as np\n",
        "from google.colab import drive\n",
        "from tensorflow import keras\n",
        "from tensorflow.keras import layers\n",
        "from tensorflow.keras import callbacks\n",
        "from sklearn.model_selection import train_test_split\n",
        "from sklearn.preprocessing import StandardScaler, OneHotEncoder\n",
        "from sklearn.metrics import accuracy_score, precision_score, recall_score, f1_score\n",
        "from sklearn.metrics import mean_squared_error\n",
        "from tensorflow.keras.optimizers import Adam\n",
        "from tensorflow.keras.layers import Dense, LSTM, Dropout\n",
        "from tensorflow.keras import Sequential\n",
        "from tensorflow.keras import layers"
      ]
    },
    {
      "cell_type": "code",
      "execution_count": null,
      "metadata": {
        "colab": {
          "base_uri": "https://localhost:8080/"
        },
        "id": "n0J35t77luRO",
        "outputId": "09e2c0d8-aa20-4498-92df-e8a1b9a9f020"
      },
      "outputs": [
        {
          "name": "stdout",
          "output_type": "stream",
          "text": [
            "Mounted at /content/drive\n"
          ]
        }
      ],
      "source": [
        "from google.colab import drive\n",
        "drive.mount('/content/drive')"
      ]
    },
    {
      "cell_type": "code",
      "execution_count": null,
      "metadata": {
        "colab": {
          "base_uri": "https://localhost:8080/"
        },
        "id": "53NoDffA1gpX",
        "outputId": "b41c07ba-8f39-4a73-e45d-b66b998379a3"
      },
      "outputs": [
        {
          "name": "stderr",
          "output_type": "stream",
          "text": [
            "<ipython-input-3-d57511d72f78>:3: MatplotlibDeprecationWarning: The seaborn styles shipped by Matplotlib are deprecated since 3.6, as they no longer correspond to the styles shipped by seaborn. However, they will remain available as 'seaborn-v0_8-<style>'. Alternatively, directly use the seaborn API instead.\n",
            "  plt.style.use('seaborn-whitegrid')\n"
          ]
        }
      ],
      "source": [
        "# Setup plotting\n",
        "import matplotlib.pyplot as plt\n",
        "plt.style.use('seaborn-whitegrid')\n",
        "# Set Matplotlib defaults\n",
        "plt.rc('figure', autolayout=True)\n",
        "plt.rc('axes', labelweight='bold', labelsize='large',\n",
        "       titleweight='bold', titlesize=18, titlepad=10)\n",
        "plt.rc('animation', html='html5')"
      ]
    },
    {
      "cell_type": "code",
      "execution_count": null,
      "metadata": {
        "id": "Qiylt1lOmPkI"
      },
      "outputs": [],
      "source": [
        "file_path = \"data set path\"\n",
        "main_df = pd.read_csv(file_path)"
      ]
    },
    {
      "cell_type": "code",
      "execution_count": null,
      "metadata": {
        "colab": {
          "base_uri": "https://localhost:8080/",
          "height": 206
        },
        "id": "8dtH9EytmT6x",
        "outputId": "2d0a5d76-b08d-44c6-b097-c7871ab23a65"
      },
      "outputs": [],
      "source": [
        "df = main_df.copy()\n",
        "df.head()"
      ]
    },
    {
      "cell_type": "code",
      "execution_count": null,
      "metadata": {
        "colab": {
          "base_uri": "https://localhost:8080/"
        },
        "id": "rNUvo_3Rm72w",
        "outputId": "c6986366-fb16-400e-8205-19e7ec56727f"
      },
      "outputs": [],
      "source": [
        "print(df.columns)"
      ]
    },
    {
      "cell_type": "code",
      "execution_count": null,
      "metadata": {
        "colab": {
          "base_uri": "https://localhost:8080/",
          "height": 614
        },
        "id": "uonVzRNvoMI8",
        "outputId": "913f595c-42b0-4563-9487-4b3bb67b8b1d"
      },
      "outputs": [],
      "source": [
        "#  make a columb average price and fill it\n",
        "df[\"avg\"] = ((df[\"HIGH \"]+df[\"LOW \"]) / 2)\n",
        "df.head(-1)"
      ]
    },
    {
      "cell_type": "code",
      "execution_count": null,
      "metadata": {
        "colab": {
          "base_uri": "https://localhost:8080/",
          "height": 808
        },
        "id": "-WZbFUeQtQWN",
        "outputId": "89a9ec36-4cd0-4d97-f071-e7c73496fa77"
      },
      "outputs": [],
      "source": [
        "df['Next_two_days_avg'] = (df['avg'].shift(-1) + df['avg'].shift(-2)) / 2\n",
        "df_clean = df.dropna()\n",
        "df_clean.head(-2)"
      ]
    },
    {
      "cell_type": "code",
      "execution_count": null,
      "metadata": {
        "colab": {
          "base_uri": "https://localhost:8080/",
          "height": 1000
        },
        "id": "-ne_L5NXNRnh",
        "outputId": "dcd29d16-78f1-4dd7-fef2-5f47494fe515"
      },
      "outputs": [],
      "source": [
        "# Calculate the percentage change between 'Next_two_days_avg' and 'avg'\n",
        "percentage_change = (df_clean['Next_two_days_avg'] / df_clean['avg'] - 1) * 100\n",
        "\n",
        "# Create a new column 'IncreaseDecrease' based on the percentage changed condition\n",
        "df_clean['IncreaseDecrease'] = np.where(percentage_change > 0.5, 1, 0)\n",
        "df_clean.head(20)"
      ]
    },
    {
      "cell_type": "code",
      "execution_count": null,
      "metadata": {
        "colab": {
          "base_uri": "https://localhost:8080/"
        },
        "id": "Jzcd0y5BEDBK",
        "outputId": "14bf707c-0103-4700-964b-ef6f51e3140e"
      },
      "outputs": [],
      "source": [
        "# List of column names to convert\n",
        "columns_to_convert = ['OPEN ', 'HIGH ', 'LOW ', 'PREV. CLOSE ', 'ltp ',\n",
        "       'close ', 'vwap ', '52W H ', '52W L ', 'VOLUME ',\n",
        "       'No of trades ']\n",
        "\n",
        "# Applying the operation to each column\n",
        "for col in columns_to_convert:\n",
        "    df_clean[col] = df_clean[col].astype(str).str.replace(',', '').astype(float).astype(int)"
      ]
    },
    {
      "cell_type": "code",
      "execution_count": null,
      "metadata": {
        "id": "KiVgaS75vJwq"
      },
      "outputs": [],
      "source": [
        "X = df_clean[['HIGH ', 'LOW ', 'PREV. CLOSE ',\n",
        "        '52W H ', '52W L ',\n",
        "       'No of trades ']]\n",
        "Y = df_clean['IncreaseDecrease']"
      ]
    },
    {
      "cell_type": "code",
      "execution_count": null,
      "metadata": {
        "id": "sj3KFS817onR"
      },
      "outputs": [],
      "source": [
        "X_train, X_valid, y_train, y_valid = train_test_split(X, Y, train_size=0.9, test_size=0.1, random_state=0)"
      ]
    },
    {
      "cell_type": "code",
      "execution_count": null,
      "metadata": {
        "id": "HfEK7Uym_p2B"
      },
      "outputs": [],
      "source": [
        "model = keras.Sequential([\n",
        "    layers.BatchNormalization(input_shape=[6]),\n",
        "    layers.Dense(400, activation='relu'),\n",
        "    layers.Dropout(0.4),\n",
        "    layers.Dense(100, activation='relu'),\n",
        "    layers.Dropout(0.4),\n",
        "    layers.Dense(10, activation='relu'),\n",
        "    layers.Dense(1),\n",
        "])\n"
      ]
    },
    {
      "cell_type": "code",
      "execution_count": null,
      "metadata": {
        "colab": {
          "base_uri": "https://localhost:8080/",
          "height": 1000
        },
        "id": "IxX-5wJO_vAn",
        "outputId": "c731f248-52c5-4d62-d483-c1cbcfb4f06a"
      },
      "outputs": [],
      "source": [
        "custom_optimizer = Adam(learning_rate=0.001)\n",
        "model.compile(\n",
        "    optimizer=custom_optimizer,\n",
        "    loss='mean_squared_error',\n",
        ")\n",
        "\n",
        "history = model.fit(\n",
        "    X_train, y_train,\n",
        "    validation_data=(X_valid, y_valid),\n",
        "    batch_size=16,\n",
        "    epochs=25,\n",
        "    verbose=1,\n",
        ")\n",
        "history_df = pd.DataFrame(history.history)\n",
        "history_df.loc[:, ['loss', 'val_loss']].plot()\n",
        "print(\"Minimum Validation Loss: {:0.4f}\".format(history_df['val_loss'].min()))"
      ]
    },
    {
      "cell_type": "code",
      "execution_count": null,
      "metadata": {
        "colab": {
          "base_uri": "https://localhost:8080/"
        },
        "id": "hf1yzUXJiMzb",
        "outputId": "2ac480b3-4837-42a4-8b8d-8d24684dc755"
      },
      "outputs": [
        {
          "name": "stdout",
          "output_type": "stream",
          "text": [
            "1/1 [==============================] - 0s 77ms/step\n",
            "Mean Squared Error: 0.188096145839304\n"
          ]
        }
      ],
      "source": [
        "y_pred = model.predict(X_valid)\n",
        "mse = mean_squared_error(y_valid, y_pred)\n",
        "print(\"Mean Squared Error:\", mse)"
      ]
    },
    {
      "cell_type": "code",
      "execution_count": null,
      "metadata": {
        "colab": {
          "base_uri": "https://localhost:8080/"
        },
        "id": "bqWn_UA3l40K",
        "outputId": "fbb7a87f-82b8-408e-8ee2-dfad30da312e"
      },
      "outputs": [],
      "source": [
        "# dumy program to create short term investing enviroment\n",
        "\n",
        "investment_amount = 200  # Amount to invest\n",
        "\n",
        "# Initialize variables to track investment performance\n",
        "total_invested = 0\n",
        "current_balance = 0  # No initial balance\n",
        "\n",
        "for i in range(len(y_pred)):\n",
        "    prediction = int(y_pred[i] > 0.4)  # Assuming a threshold of 0.5 for binary classification\n",
        "\n",
        "    if prediction == 1:\n",
        "        sec_prediction = df_clean['Next_two_days_avg'].iloc[i]+20\n",
        "\n",
        "        # Invest 200\n",
        "        total_invested += investment_amount \n",
        "        result = (0.3 / 100 * df_clean['avg'].iloc[i])+df_clean['avg'].iloc[i]\n",
        "        print(result)\n",
        "        print(sec_prediction)\n",
        "        current_balance = current_balance+(sec_prediction-result)\n",
        "\n",
        "\n",
        "# Print the results\n",
        "print(\"Total Invested:\", total_invested)\n",
        "print(\"Current Balance:\", current_balance)\n"
      ]
    },
    {
      "cell_type": "code",
      "execution_count": null,
      "metadata": {
        "id": "8j2l_rSsOa0N"
      },
      "outputs": [],
      "source": [
        "# to save the trained model\n",
        "model.save('v9_model')"
      ]
    }
  ],
  "metadata": {
    "colab": {
      "provenance": []
    },
    "kernelspec": {
      "display_name": "Python 3",
      "name": "python3"
    },
    "language_info": {
      "name": "python"
    }
  },
  "nbformat": 4,
  "nbformat_minor": 0
}
